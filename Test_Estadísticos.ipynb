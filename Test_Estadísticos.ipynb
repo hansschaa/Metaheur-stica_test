{
  "nbformat": 4,
  "nbformat_minor": 0,
  "metadata": {
    "colab": {
      "provenance": [],
      "include_colab_link": true
    },
    "kernelspec": {
      "name": "python3",
      "display_name": "Python 3"
    },
    "language_info": {
      "name": "python"
    }
  },
  "cells": [
    {
      "cell_type": "markdown",
      "metadata": {
        "id": "view-in-github",
        "colab_type": "text"
      },
      "source": [
        "<a href=\"https://colab.research.google.com/github/hansschaa/Metaheur-stica_test/blob/master/Test_Estad%C3%ADsticos.ipynb\" target=\"_parent\"><img src=\"https://colab.research.google.com/assets/colab-badge.svg\" alt=\"Open In Colab\"/></a>"
      ]
    },
    {
      "cell_type": "markdown",
      "source": [
        "Test de Friedman"
      ],
      "metadata": {
        "id": "QwDaJ4HAir7K"
      }
    },
    {
      "cell_type": "code",
      "execution_count": null,
      "metadata": {
        "colab": {
          "base_uri": "https://localhost:8080/"
        },
        "id": "AGjY6OAghXpD",
        "outputId": "6f0fe915-654f-4eb4-9815-901928bcaece"
      },
      "outputs": [
        {
          "output_type": "stream",
          "name": "stdout",
          "text": [
            "Estadística de Friedman para el Tiempo: 14.600000000000009\n",
            "Valor p para el Tiempo: 0.002192438137306533\n",
            "Estadística de Friedman para la Calidad: 11.600000000000009\n",
            "Valor p para la Calidad: 0.008886888805408596\n"
          ]
        }
      ],
      "source": [
        "import numpy as np\n",
        "from scipy.stats import friedmanchisquare\n",
        "\n",
        "# Time\n",
        "GA_Time = [11816.1, 12684.1, 31703.2, 16129.55, 63610.75, 79331.8]\n",
        "ES_Time = [11020.65, 11930.55, 28063.75, 14316.45, 56468, 35904.45]\n",
        "DE_Time = [11231.3, 11834.8, 81187.95, 19978.55, 194913.6, 384484.9]\n",
        "SA_Time = [8017.95, 9099.5, 10364.6, 9812.85, 9195.05, 11159.25]\n",
        "\n",
        "\n",
        "# Friedman test\n",
        "statistic_time, p_value_time = friedmanchisquare(GA_Time, ES_Time, DE_Time, SA_Time)\n",
        "\n",
        "print(f'Estadística de Friedman para el Tiempo: {statistic_time}')\n",
        "print(f'Valor p para el Tiempo: {p_value_time}')\n",
        "\n",
        "# Quality\n",
        "GA_Quality = [9.85, 32.4, 72.4, 48.9, 93.45, 75]\n",
        "ES_Quality = [10.55, 35.2, 80.25, 49.25, 92.4, 65.85]\n",
        "DE_Quality = [10.65, 33.6, 77.05, 50.75, 81.8, 65]\n",
        "SA_Quality = [9.5, 22.4, 33.05, 31.05, 38.15, 32.25]\n",
        "\n",
        "# Friedman\n",
        "statistic_quality, p_value_quality = friedmanchisquare(GA_Quality, ES_Quality, DE_Quality, SA_Quality)\n",
        "\n",
        "print(f'Estadística de Friedman para la Calidad: {statistic_quality}')\n",
        "print(f'Valor p para la Calidad: {p_value_quality}')\n"
      ]
    },
    {
      "cell_type": "markdown",
      "source": [
        "Posthoc test de Wilcoxon"
      ],
      "metadata": {
        "id": "KQfkWXL3jPkA"
      }
    },
    {
      "cell_type": "code",
      "source": [
        "!pip install numpy scipy scikit-posthocs\n",
        "\n",
        "import numpy as np\n",
        "import scikit_posthocs as sp\n",
        "import pandas as pd\n",
        "\n",
        "# Datos\n",
        "data_time = np.array([\n",
        "    [11816.1, 11020.65, 11231.3, 8017.95],\n",
        "    [12684.1, 11930.55, 11834.8, 9099.5],\n",
        "    [31703.2, 28063.75, 81187.95, 10364.6],\n",
        "    [16129.55, 14316.45, 19978.55, 9812.85],\n",
        "    [63610.75, 56468, 194913.6, 9195.05],\n",
        "    [79331.8, 35904.45, 384484.9, 11159.25]\n",
        "])\n",
        "\n",
        "data_quality = np.array([\n",
        "    [9.85, 10.55, 10.65, 9.5],\n",
        "    [32.4, 35.2, 33.6, 22.4],\n",
        "    [72.4, 80.25, 77.05, 33.05],\n",
        "    [48.9, 49.25, 50.75, 31.05],\n",
        "    [93.45, 92.4, 81.8, 38.15],\n",
        "    [75, 65.85, 65, 32.25]\n",
        "])\n",
        "\n",
        "df_time = pd.DataFrame(data_time, columns=['GA', 'ES', 'DE', 'SA'])\n",
        "df_quality = pd.DataFrame(data_quality, columns=['GA', 'ES', 'DE', 'SA'])\n",
        "\n",
        "\n",
        "# Wilcoxon\n",
        "nemenyi_time = sp.posthoc_nemenyi_friedman(df_time)\n",
        "nemenyi_quality = sp.posthoc_nemenyi_friedman(df_quality)\n",
        "\n",
        "# Mostrar los resultados\n",
        "print(\"Resultados del Test de Nemenyi para Tiempo:\\n\", nemenyi_time)\n",
        "print(\"\\nResultados del Test de Nemenyi para Calidad:\\n\", nemenyi_quality)"
      ],
      "metadata": {
        "colab": {
          "base_uri": "https://localhost:8080/"
        },
        "id": "ohU-yn5njXP6",
        "outputId": "44b623f1-edcc-4e45-bfed-bf11e0b61046"
      },
      "execution_count": null,
      "outputs": [
        {
          "output_type": "stream",
          "name": "stdout",
          "text": [
            "Requirement already satisfied: numpy in /usr/local/lib/python3.10/dist-packages (1.25.2)\n",
            "Requirement already satisfied: scipy in /usr/local/lib/python3.10/dist-packages (1.11.4)\n",
            "Collecting scikit-posthocs\n",
            "  Downloading scikit_posthocs-0.9.0-py3-none-any.whl (32 kB)\n",
            "Requirement already satisfied: statsmodels in /usr/local/lib/python3.10/dist-packages (from scikit-posthocs) (0.14.2)\n",
            "Requirement already satisfied: pandas>=0.20.0 in /usr/local/lib/python3.10/dist-packages (from scikit-posthocs) (2.0.3)\n",
            "Requirement already satisfied: seaborn in /usr/local/lib/python3.10/dist-packages (from scikit-posthocs) (0.13.1)\n",
            "Requirement already satisfied: matplotlib in /usr/local/lib/python3.10/dist-packages (from scikit-posthocs) (3.7.1)\n",
            "Requirement already satisfied: python-dateutil>=2.8.2 in /usr/local/lib/python3.10/dist-packages (from pandas>=0.20.0->scikit-posthocs) (2.8.2)\n",
            "Requirement already satisfied: pytz>=2020.1 in /usr/local/lib/python3.10/dist-packages (from pandas>=0.20.0->scikit-posthocs) (2023.4)\n",
            "Requirement already satisfied: tzdata>=2022.1 in /usr/local/lib/python3.10/dist-packages (from pandas>=0.20.0->scikit-posthocs) (2024.1)\n",
            "Requirement already satisfied: contourpy>=1.0.1 in /usr/local/lib/python3.10/dist-packages (from matplotlib->scikit-posthocs) (1.2.1)\n",
            "Requirement already satisfied: cycler>=0.10 in /usr/local/lib/python3.10/dist-packages (from matplotlib->scikit-posthocs) (0.12.1)\n",
            "Requirement already satisfied: fonttools>=4.22.0 in /usr/local/lib/python3.10/dist-packages (from matplotlib->scikit-posthocs) (4.53.0)\n",
            "Requirement already satisfied: kiwisolver>=1.0.1 in /usr/local/lib/python3.10/dist-packages (from matplotlib->scikit-posthocs) (1.4.5)\n",
            "Requirement already satisfied: packaging>=20.0 in /usr/local/lib/python3.10/dist-packages (from matplotlib->scikit-posthocs) (24.0)\n",
            "Requirement already satisfied: pillow>=6.2.0 in /usr/local/lib/python3.10/dist-packages (from matplotlib->scikit-posthocs) (9.4.0)\n",
            "Requirement already satisfied: pyparsing>=2.3.1 in /usr/local/lib/python3.10/dist-packages (from matplotlib->scikit-posthocs) (3.1.2)\n",
            "Requirement already satisfied: patsy>=0.5.6 in /usr/local/lib/python3.10/dist-packages (from statsmodels->scikit-posthocs) (0.5.6)\n",
            "Requirement already satisfied: six in /usr/local/lib/python3.10/dist-packages (from patsy>=0.5.6->statsmodels->scikit-posthocs) (1.16.0)\n",
            "Installing collected packages: scikit-posthocs\n",
            "Successfully installed scikit-posthocs-0.9.0\n",
            "Resultados del Test de Nemenyi para Tiempo:\n",
            "           GA        ES        DE        SA\n",
            "GA  1.000000  0.399914  0.900000  0.009454\n",
            "ES  0.399914  1.000000  0.278815  0.399914\n",
            "DE  0.900000  0.278815  1.000000  0.004428\n",
            "SA  0.009454  0.399914  0.004428  1.000000\n",
            "\n",
            "Resultados del Test de Nemenyi para Calidad:\n",
            "           GA        ES        DE        SA\n",
            "GA  1.000000  0.783106  0.900000  0.113705\n",
            "ES  0.783106  1.000000  0.900000  0.009454\n",
            "DE  0.900000  0.900000  1.000000  0.036667\n",
            "SA  0.113705  0.009454  0.036667  1.000000\n"
          ]
        }
      ]
    },
    {
      "cell_type": "markdown",
      "source": [
        "¿Cúal es el mejor?"
      ],
      "metadata": {
        "id": "dg4Igm3xlBgA"
      }
    },
    {
      "cell_type": "code",
      "source": [
        "import numpy as np\n",
        "import pandas as pd\n",
        "\n",
        "# Timw\n",
        "data_time = np.array([\n",
        "    [11816.1, 11020.65, 11231.3, 8017.95],\n",
        "    [12684.1, 11930.55, 11834.8, 9099.5],\n",
        "    [31703.2, 28063.75, 81187.95, 10364.6],\n",
        "    [16129.55, 14316.45, 19978.55, 9812.85],\n",
        "    [63610.75, 56468, 194913.6, 9195.05],\n",
        "    [79331.8, 35904.45, 384484.9, 11159.25]\n",
        "])\n",
        "\n",
        "#Quality\n",
        "data_quality = np.array([\n",
        "    [9.85, 10.55, 10.65, 9.5],\n",
        "    [32.4, 35.2, 33.6, 22.4],\n",
        "    [72.4, 80.25, 77.05, 33.05],\n",
        "    [48.9, 49.25, 50.75, 31.05],\n",
        "    [93.45, 92.4, 81.8, 38.15],\n",
        "    [75, 65.85, 65, 32.25]\n",
        "])\n",
        "\n",
        "\n",
        "df_time = pd.DataFrame(data_time, columns=['GA', 'ES', 'DE', 'SA'])\n",
        "df_quality = pd.DataFrame(data_quality, columns=['GA', 'ES', 'DE', 'SA'])\n",
        "\n",
        "# Mean\n",
        "mean_time = df_time[['GA', 'ES', 'DE', 'SA']].mean()\n",
        "mean_quality = df_quality[['GA', 'ES', 'DE', 'SA']].mean()\n",
        "\n",
        "print(\"Medias de Tiempo:\\n\", mean_time)\n",
        "print(\"\\nMedias de Calidad:\\n\", mean_quality)\n",
        "\n",
        "# Normalization\n",
        "normalized_time = (mean_time - mean_time.min()) / (mean_time.max() - mean_time.min())\n",
        "normalized_quality = (mean_quality - mean_quality.min()) / (mean_quality.max() - mean_quality.min())\n",
        "\n",
        "# Less time\n",
        "normalized_time = 1 - normalized_time\n",
        "weight_time = 0.5\n",
        "weight_quality = 0.5\n",
        "\n",
        "# Performance compute\n",
        "performance = (normalized_time * weight_time + normalized_quality * weight_quality)\n",
        "\n",
        "print(\"\\nMétricas de desempeño combinadas:\\n\", performance)\n",
        "\n",
        "# Best\n",
        "best_treatment = performance.idxmax()\n",
        "print(f\"\\nEl mejor tratamiento es: {best_treatment}\")\n"
      ],
      "metadata": {
        "colab": {
          "base_uri": "https://localhost:8080/"
        },
        "id": "hsfuRk1ulFPV",
        "outputId": "a92e8920-394f-42a3-a652-be584f92f9c2"
      },
      "execution_count": null,
      "outputs": [
        {
          "output_type": "stream",
          "name": "stdout",
          "text": [
            "Medias de Tiempo:\n",
            " GA     35879.250\n",
            "ES     26283.975\n",
            "DE    117271.850\n",
            "SA      9608.200\n",
            "dtype: float64\n",
            "\n",
            "Medias de Calidad:\n",
            " GA    55.333333\n",
            "ES    55.583333\n",
            "DE    53.141667\n",
            "SA    27.733333\n",
            "dtype: float64\n",
            "\n",
            "Métricas de desempeño combinadas:\n",
            " GA    0.873506\n",
            "ES    0.922556\n",
            "DE    0.456164\n",
            "SA    0.500000\n",
            "dtype: float64\n",
            "\n",
            "El mejor tratamiento es: ES\n"
          ]
        }
      ]
    }
  ]
}